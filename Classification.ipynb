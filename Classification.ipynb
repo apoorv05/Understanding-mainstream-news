{
  "nbformat": 4,
  "nbformat_minor": 0,
  "metadata": {
    "colab": {
      "name": "Classification",
      "provenance": [],
      "collapsed_sections": []
    },
    "kernelspec": {
      "name": "python3",
      "display_name": "Python 3"
    }
  },
  "cells": [
    {
      "cell_type": "code",
      "metadata": {
        "id": "niWNqcWAWgjG",
        "colab_type": "code",
        "colab": {
          "base_uri": "https://localhost:8080/",
          "height": 128
        },
        "outputId": "70e83a98-f853-4990-aca2-3c70d9f7e42c"
      },
      "source": [
        "from google.colab import drive\n",
        "drive.mount('/content/drive')"
      ],
      "execution_count": null,
      "outputs": [
        {
          "output_type": "stream",
          "text": [
            "Go to this URL in a browser: https://accounts.google.com/o/oauth2/auth?client_id=947318989803-6bn6qk8qdgf4n4g3pfee6491hc0brc4i.apps.googleusercontent.com&redirect_uri=urn%3aietf%3awg%3aoauth%3a2.0%3aoob&response_type=code&scope=email%20https%3a%2f%2fwww.googleapis.com%2fauth%2fdocs.test%20https%3a%2f%2fwww.googleapis.com%2fauth%2fdrive%20https%3a%2f%2fwww.googleapis.com%2fauth%2fdrive.photos.readonly%20https%3a%2f%2fwww.googleapis.com%2fauth%2fpeopleapi.readonly\n",
            "\n",
            "Enter your authorization code:\n",
            "··········\n",
            "Mounted at /content/drive\n"
          ],
          "name": "stdout"
        }
      ]
    },
    {
      "cell_type": "code",
      "metadata": {
        "id": "3Ne8sYR3xZ6l",
        "colab_type": "code",
        "colab": {}
      },
      "source": [
        "import re\n",
        "import os\n",
        "import string\n",
        "import numpy as np \n",
        "import pandas as pd \n",
        "from sklearn.linear_model import LinearRegression \n",
        "\n",
        "from sklearn.pipeline import make_pipeline\n",
        "from sklearn.preprocessing import Normalizer\n",
        "from sklearn.preprocessing import MinMaxScaler\n",
        "from sklearn.ensemble import RandomForestClassifier\n",
        "\n",
        "from nltk.stem.porter import * \n",
        "from nltk.corpus import *\n",
        "from collections import Counter\n",
        "from sklearn.feature_extraction.text import CountVectorizer\n",
        "from sklearn.feature_selection import VarianceThreshold\n",
        "\n",
        "\n",
        "from sklearn.feature_selection import mutual_info_classif\n",
        "\n",
        "from sklearn.metrics import confusion_matrix\n",
        "from sklearn.feature_extraction.text import TfidfVectorizer\n",
        "from sklearn.preprocessing import LabelEncoder\n",
        "\n",
        "from sklearn.feature_selection import SelectKBest, chi2\n",
        "from sklearn.model_selection import train_test_split\n",
        "from sklearn.naive_bayes import MultinomialNB\n",
        "from sklearn import svm\n",
        "from sklearn.metrics import accuracy_score\n",
        "from sklearn.neural_network import MLPClassifier\n",
        "from sklearn.tree import DecisionTreeClassifier \n",
        "from sklearn.metrics import accuracy_score \n",
        "from sklearn.metrics import classification_report \n",
        "from sklearn import decomposition\n",
        "import matplotlib.pyplot as plt\n",
        "import itertools\n",
        "from sklearn.externals import joblib\n",
        "from textblob import TextBlob"
      ],
      "execution_count": null,
      "outputs": []
    },
    {
      "cell_type": "code",
      "metadata": {
        "id": "78KKrmv38-TN",
        "colab_type": "code",
        "colab": {}
      },
      "source": [
        "def is_number(s):\n",
        "    try:\n",
        "        int(s)\n",
        "        return True\n",
        "    except ValueError:\n",
        "        return False\n",
        "\n",
        "def plot_confusion_matrix(cm, classes,\n",
        "                          normalize=False,\n",
        "                          title='Confusion matrix',\n",
        "                          cmap=plt.cm.Blues):\n",
        "        \n",
        "    plt.imshow(cm, interpolation='nearest', cmap=cmap)\n",
        "    plt.title(title)\n",
        "    plt.colorbar()\n",
        "    tick_marks = np.arange(len(classes))\n",
        "    plt.xticks(tick_marks, classes, rotation=45)\n",
        "    plt.yticks(tick_marks, classes)\n",
        "\n",
        "    if normalize:\n",
        "        cm = cm.astype('float') / cm.sum(axis=1)[:, np.newaxis]\n",
        "        print(\"Normalized confusion matrix\")\n",
        "    else:\n",
        "        print('Confusion matrix, without normalization')\n",
        "\n",
        "    print(cm)\n",
        "\n",
        "    thresh = cm.max() / 2.\n",
        "    for i, j in itertools.product(range(cm.shape[0]), range(cm.shape[1])):\n",
        "        plt.text(j, i, cm[i, j],\n",
        "                 horizontalalignment=\"center\",\n",
        "                 color=\"white\" if cm[i, j] > thresh else \"black\")\n",
        "\n",
        "    plt.tight_layout()\n",
        "    plt.ylabel('True label')\n",
        "    plt.xlabel('Predicted label')\n"
      ],
      "execution_count": null,
      "outputs": []
    },
    {
      "cell_type": "code",
      "metadata": {
        "id": "5NA6O5k5LtUz",
        "colab_type": "code",
        "colab": {
          "base_uri": "https://localhost:8080/",
          "height": 72
        },
        "outputId": "a96a8553-903d-4f83-f403-4f919506cb33"
      },
      "source": [
        "import nltk\n",
        "nltk.download(\"stopwords\")"
      ],
      "execution_count": null,
      "outputs": [
        {
          "output_type": "stream",
          "text": [
            "[nltk_data] Downloading package stopwords to /root/nltk_data...\n",
            "[nltk_data]   Package stopwords is already up-to-date!\n"
          ],
          "name": "stdout"
        },
        {
          "output_type": "execute_result",
          "data": {
            "text/plain": [
              "True"
            ]
          },
          "metadata": {
            "tags": []
          },
          "execution_count": 46
        }
      ]
    },
    {
      "cell_type": "code",
      "metadata": {
        "id": "Ln-NNJ2QZZq8",
        "colab_type": "code",
        "colab": {}
      },
      "source": [
        "news_headlines = pd.read_csv(\"drive/My Drive/dataset.csv\")\n",
        "news = news_headlines.head(100000)"
      ],
      "execution_count": null,
      "outputs": []
    },
    {
      "cell_type": "code",
      "metadata": {
        "id": "JPGwD10cG52E",
        "colab_type": "code",
        "colab": {}
      },
      "source": [
        "#news.headline_category.unique() "
      ],
      "execution_count": null,
      "outputs": []
    },
    {
      "cell_type": "code",
      "metadata": {
        "id": "SYU80WIpGMBs",
        "colab_type": "code",
        "colab": {}
      },
      "source": [
        "#news_headlines.head()"
      ],
      "execution_count": null,
      "outputs": []
    },
    {
      "cell_type": "code",
      "metadata": {
        "id": "DT289sToFc2U",
        "colab_type": "code",
        "colab": {}
      },
      "source": [
        "#print(news.iloc[[0]])"
      ],
      "execution_count": null,
      "outputs": []
    },
    {
      "cell_type": "code",
      "metadata": {
        "id": "S7coLdq29I4G",
        "colab_type": "code",
        "colab": {
          "base_uri": "https://localhost:8080/",
          "height": 964
        },
        "outputId": "f317b897-b9d3-4b43-aad9-4959cbaa4b80"
      },
      "source": [
        "\n",
        "news['category'] = \"\"\n",
        "for i in range(100000):\n",
        "  if((\"sports\" in news.headline_category[i] )or (\"cricket\" in news.headline_category[i]) or \"football\" in news.headline_category[i]):\n",
        "    news.category[i] = \"sports\"\n",
        "  elif(\"india\" in news.headline_category[i]):\n",
        "    news.category[i] = \"national\"\n",
        "  elif(\"business\" in news.headline_category[i]):\n",
        "    news.category[i] = \"business\"\n",
        "  elif(\"city\" in news.headline_category[i] or \"times\" in news.headline_category[i]):\n",
        "    news.category[i] = \"local\"\n",
        "  elif(\"entertainment\" in news.headline_category[i] or \"bollywood\" in news.headline_category[i] or \"hollywood\" in news.headline_category[i]):\n",
        "    news.category[i] = \"entertainment\"\n",
        "  else:\n",
        "    news.category[i] = \"miscellaneous\"\n",
        "news.head()\n"
      ],
      "execution_count": null,
      "outputs": [
        {
          "output_type": "stream",
          "text": [
            "/usr/local/lib/python3.6/dist-packages/ipykernel_launcher.py:2: SettingWithCopyWarning: \n",
            "A value is trying to be set on a copy of a slice from a DataFrame.\n",
            "Try using .loc[row_indexer,col_indexer] = value instead\n",
            "\n",
            "See the caveats in the documentation: https://pandas.pydata.org/pandas-docs/stable/user_guide/indexing.html#returning-a-view-versus-a-copy\n",
            "  \n",
            "/usr/local/lib/python3.6/dist-packages/ipykernel_launcher.py:5: SettingWithCopyWarning: \n",
            "A value is trying to be set on a copy of a slice from a DataFrame\n",
            "\n",
            "See the caveats in the documentation: https://pandas.pydata.org/pandas-docs/stable/user_guide/indexing.html#returning-a-view-versus-a-copy\n",
            "  \"\"\"\n",
            "/usr/local/lib/python3.6/dist-packages/IPython/core/interactiveshell.py:2882: SettingWithCopyWarning: \n",
            "A value is trying to be set on a copy of a slice from a DataFrame\n",
            "\n",
            "See the caveats in the documentation: https://pandas.pydata.org/pandas-docs/stable/user_guide/indexing.html#returning-a-view-versus-a-copy\n",
            "  exec(code_obj, self.user_global_ns, self.user_ns)\n",
            "/usr/local/lib/python3.6/dist-packages/ipykernel_launcher.py:13: SettingWithCopyWarning: \n",
            "A value is trying to be set on a copy of a slice from a DataFrame\n",
            "\n",
            "See the caveats in the documentation: https://pandas.pydata.org/pandas-docs/stable/user_guide/indexing.html#returning-a-view-versus-a-copy\n",
            "  del sys.path[0]\n",
            "/usr/local/lib/python3.6/dist-packages/ipykernel_launcher.py:15: SettingWithCopyWarning: \n",
            "A value is trying to be set on a copy of a slice from a DataFrame\n",
            "\n",
            "See the caveats in the documentation: https://pandas.pydata.org/pandas-docs/stable/user_guide/indexing.html#returning-a-view-versus-a-copy\n",
            "  from ipykernel import kernelapp as app\n",
            "/usr/local/lib/python3.6/dist-packages/ipykernel_launcher.py:7: SettingWithCopyWarning: \n",
            "A value is trying to be set on a copy of a slice from a DataFrame\n",
            "\n",
            "See the caveats in the documentation: https://pandas.pydata.org/pandas-docs/stable/user_guide/indexing.html#returning-a-view-versus-a-copy\n",
            "  import sys\n",
            "/usr/local/lib/python3.6/dist-packages/ipykernel_launcher.py:11: SettingWithCopyWarning: \n",
            "A value is trying to be set on a copy of a slice from a DataFrame\n",
            "\n",
            "See the caveats in the documentation: https://pandas.pydata.org/pandas-docs/stable/user_guide/indexing.html#returning-a-view-versus-a-copy\n",
            "  # This is added back by InteractiveShellApp.init_path()\n",
            "/usr/local/lib/python3.6/dist-packages/ipykernel_launcher.py:9: SettingWithCopyWarning: \n",
            "A value is trying to be set on a copy of a slice from a DataFrame\n",
            "\n",
            "See the caveats in the documentation: https://pandas.pydata.org/pandas-docs/stable/user_guide/indexing.html#returning-a-view-versus-a-copy\n",
            "  if __name__ == '__main__':\n"
          ],
          "name": "stderr"
        },
        {
          "output_type": "execute_result",
          "data": {
            "text/html": [
              "<div>\n",
              "<style scoped>\n",
              "    .dataframe tbody tr th:only-of-type {\n",
              "        vertical-align: middle;\n",
              "    }\n",
              "\n",
              "    .dataframe tbody tr th {\n",
              "        vertical-align: top;\n",
              "    }\n",
              "\n",
              "    .dataframe thead th {\n",
              "        text-align: right;\n",
              "    }\n",
              "</style>\n",
              "<table border=\"1\" class=\"dataframe\">\n",
              "  <thead>\n",
              "    <tr style=\"text-align: right;\">\n",
              "      <th></th>\n",
              "      <th>publish_date</th>\n",
              "      <th>headline_category</th>\n",
              "      <th>headline_text</th>\n",
              "      <th>category</th>\n",
              "    </tr>\n",
              "  </thead>\n",
              "  <tbody>\n",
              "    <tr>\n",
              "      <th>0</th>\n",
              "      <td>20010101</td>\n",
              "      <td>sports.wwe</td>\n",
              "      <td>win over cena satisfying but defeating underta...</td>\n",
              "      <td>sports</td>\n",
              "    </tr>\n",
              "    <tr>\n",
              "      <th>1</th>\n",
              "      <td>20010102</td>\n",
              "      <td>bollywood</td>\n",
              "      <td>Raju Chacha</td>\n",
              "      <td>entertainment</td>\n",
              "    </tr>\n",
              "    <tr>\n",
              "      <th>2</th>\n",
              "      <td>20010102</td>\n",
              "      <td>unknown</td>\n",
              "      <td>Status quo will not be disturbed at Ayodhya; s...</td>\n",
              "      <td>miscellaneous</td>\n",
              "    </tr>\n",
              "    <tr>\n",
              "      <th>3</th>\n",
              "      <td>20010102</td>\n",
              "      <td>unknown</td>\n",
              "      <td>Fissures in Hurriyat over Pak visit</td>\n",
              "      <td>miscellaneous</td>\n",
              "    </tr>\n",
              "    <tr>\n",
              "      <th>4</th>\n",
              "      <td>20010102</td>\n",
              "      <td>unknown</td>\n",
              "      <td>America's unwanted heading for India?</td>\n",
              "      <td>miscellaneous</td>\n",
              "    </tr>\n",
              "  </tbody>\n",
              "</table>\n",
              "</div>"
            ],
            "text/plain": [
              "   publish_date  ...       category\n",
              "0      20010101  ...         sports\n",
              "1      20010102  ...  entertainment\n",
              "2      20010102  ...  miscellaneous\n",
              "3      20010102  ...  miscellaneous\n",
              "4      20010102  ...  miscellaneous\n",
              "\n",
              "[5 rows x 4 columns]"
            ]
          },
          "metadata": {
            "tags": []
          },
          "execution_count": 51
        }
      ]
    },
    {
      "cell_type": "code",
      "metadata": {
        "id": "_QrOF0hxT1K9",
        "colab_type": "code",
        "colab": {
          "base_uri": "https://localhost:8080/",
          "height": 35
        },
        "outputId": "742af0b0-83ef-4f25-825d-6007ed741445"
      },
      "source": [
        "#*********** filter out useless words,symbols\n",
        "\n",
        "news_list = [s.lower().translate(str.maketrans('','',string.punctuation)) for s in news['headline_text']]\n",
        "#converts all uppercase characters to lowercase.remove punctuation\n",
        "stop = set(stopwords.words('english'))\n",
        "\"\"\"\n",
        "Stop Words: A stop word is a commonly used word (such as “the”, “a”, “an”, “in”)\n",
        "that a search engine has been programmed to ignore, both when indexing entries\n",
        "for searching and when retrieving them as the result of a search query.\n",
        "\"\"\"\n",
        "#print(stop)\n",
        "filtered_words = []\n",
        "for sentence in news_list:\n",
        "\tfiltered_words.append(\" \".join([word for word in sentence.split() if ((word.lower() not in stop) and (len(word.lower())<15) and not (is_number(word.lower()))) ])) #need to check which words are removed\n",
        "#join() is a string method which returns a string concatenated with the elements of an iterable.\n",
        "\n",
        "stemmer = PorterStemmer()\n",
        "stemmed=[]\n",
        "for words in filtered_words:\n",
        "\tst=''\n",
        "\tfor i in words.split(' '):\n",
        "\t\tst=st+' '+stemmer.stem(i)\n",
        "\n",
        "\tstemmed.append(st)\n",
        "\"\"\"\n",
        "print(news_list[:5])\n",
        "print(filtered_words[:5])\n",
        "print(stemmed[:5])\"\"\""
      ],
      "execution_count": null,
      "outputs": [
        {
          "output_type": "execute_result",
          "data": {
            "text/plain": [
              "'\\nprint(news_list[:5])\\nprint(filtered_words[:5])\\nprint(stemmed[:5])'"
            ]
          },
          "metadata": {
            "tags": []
          },
          "execution_count": 52
        }
      ]
    },
    {
      "cell_type": "code",
      "metadata": {
        "id": "IhfRDptk9QL3",
        "colab_type": "code",
        "colab": {
          "base_uri": "https://localhost:8080/",
          "height": 35
        },
        "outputId": "8a1dbf7e-74db-449b-b128-4213e3c65ac3"
      },
      "source": [
        "#Convert stemmed collection of text to a sparse matrix of token counts\n",
        "vector = CountVectorizer()\n",
        "x = vector.fit_transform(stemmed)\n",
        "\n",
        "code = LabelEncoder()\n",
        "y = code.fit_transform(news['category'])\t# it takes the whole coloumn and then generates the required amount of labels\n",
        "\n",
        "class_names = list(set(\" \".join(news['category']).split(\" \")))\n",
        "print(class_names)"
      ],
      "execution_count": null,
      "outputs": [
        {
          "output_type": "stream",
          "text": [
            "['business', 'sports', 'national', 'miscellaneous', 'entertainment', 'local']\n"
          ],
          "name": "stdout"
        }
      ]
    },
    {
      "cell_type": "code",
      "metadata": {
        "id": "Z9L4OLzO45-8",
        "colab_type": "code",
        "colab": {}
      },
      "source": [
        "\n",
        "xtrain, xtest, ytrain, ytest = train_test_split(x, y, test_size=0.2)\n",
        "\n",
        "featurenames=' '.join(vector.get_feature_names())\n",
        "#print(featurenames)\n",
        "file = open(\"features.txt\",\"w\") \n",
        "file.write(featurenames)\n",
        "\n",
        "file.close()\n",
        "\n"
      ],
      "execution_count": null,
      "outputs": []
    },
    {
      "cell_type": "code",
      "metadata": {
        "id": "nXNhPh_Hm2nD",
        "colab_type": "code",
        "colab": {}
      },
      "source": [
        "#lr"
      ],
      "execution_count": null,
      "outputs": []
    },
    {
      "cell_type": "markdown",
      "metadata": {
        "id": "JLkZy-Frhnt2",
        "colab_type": "text"
      },
      "source": [
        "# decision tree\n"
      ]
    },
    {
      "cell_type": "code",
      "metadata": {
        "id": "MOoFes547ept",
        "colab_type": "code",
        "colab": {}
      },
      "source": [
        "def train_using_gini(X_train, X_test, y_train): \n",
        "  \n",
        "    # Creating the classifier object \n",
        "    clf_gini = DecisionTreeClassifier(criterion = \"gini\", \n",
        "            random_state = 100,max_depth=3, min_samples_leaf=5) \n",
        "  \n",
        "    # Performing training \n",
        "    clf_gini.fit(X_train, y_train) \n",
        "    return clf_gini "
      ],
      "execution_count": null,
      "outputs": []
    },
    {
      "cell_type": "code",
      "metadata": {
        "id": "ieaegHhv7ldR",
        "colab_type": "code",
        "colab": {}
      },
      "source": [
        "# Function to perform training with entropy. \n",
        "def tarin_using_entropy(X_train, X_test, y_train): \n",
        "  \n",
        "    # Decision tree with entropy \n",
        "    clf_entropy = DecisionTreeClassifier( \n",
        "            criterion = \"entropy\", random_state = 100, \n",
        "            max_depth = 3, min_samples_leaf = 5) \n",
        "  \n",
        "    # Performing training \n",
        "    clf_entropy.fit(X_train, y_train) \n",
        "    return clf_entropy "
      ],
      "execution_count": null,
      "outputs": []
    },
    {
      "cell_type": "code",
      "metadata": {
        "id": "g3ntSNEA7tug",
        "colab_type": "code",
        "colab": {}
      },
      "source": [
        "# Function to make predictions \n",
        "def prediction(X_test, clf_object): \n",
        "  \n",
        "    # Predicton on test with giniIndex \n",
        "    y_pred = clf_object.predict(X_test) \n",
        "    print(\"Predicted values:\") \n",
        "    print(y_pred) \n",
        "    return y_pred \n",
        "      \n",
        "# Function to calculate accuracy \n",
        "def cal_accuracy(y_test, y_pred): \n",
        "      \n",
        "    print(\"Confusion Matrix: \", \n",
        "        confusion_matrix(y_test, y_pred)) \n",
        "      \n",
        "    print (\"Accuracy : \", \n",
        "    accuracy_score(y_test,y_pred)*100) \n",
        "      \n",
        "    print(\"Report : \", \n",
        "    classification_report(y_test, y_pred)) \n",
        "  "
      ],
      "execution_count": null,
      "outputs": []
    },
    {
      "cell_type": "code",
      "metadata": {
        "id": "1VJ5nMS69Yld",
        "colab_type": "code",
        "colab": {}
      },
      "source": [
        "clf_gini = train_using_gini(xtrain, xtest, ytrain) \n",
        "clf_entropy = tarin_using_entropy(xtrain, xtest, ytrain) "
      ],
      "execution_count": null,
      "outputs": []
    },
    {
      "cell_type": "code",
      "metadata": {
        "id": "KNZGVhBm73wb",
        "colab_type": "code",
        "colab": {
          "base_uri": "https://localhost:8080/",
          "height": 474
        },
        "outputId": "2d02cc45-1cb9-4f17-9c4a-31f66953d6d5"
      },
      "source": [
        " # Prediction using gini \n",
        " y_pred_gini = prediction(xtest, clf_gini) \n",
        " cal_accuracy(ytest, y_pred_gini) "
      ],
      "execution_count": null,
      "outputs": [
        {
          "output_type": "stream",
          "text": [
            "Predicted values:\n",
            "[2 2 4 ... 2 2 2]\n",
            "Confusion Matrix:  [[    0     0    53     0     3     0]\n",
            " [    0     0   474     1     8     0]\n",
            " [    0     0 12127    30    93     0]\n",
            " [    0     0  3420    61   126     0]\n",
            " [    0     0  3063    60   272     0]\n",
            " [    0     0   185     1    23     0]]\n",
            "Accuracy :  62.3\n",
            "Report :                precision    recall  f1-score   support\n",
            "\n",
            "           0       0.00      0.00      0.00        56\n",
            "           1       0.00      0.00      0.00       483\n",
            "           2       0.63      0.99      0.77     12250\n",
            "           3       0.40      0.02      0.03      3607\n",
            "           4       0.52      0.08      0.14      3395\n",
            "           5       0.00      0.00      0.00       209\n",
            "\n",
            "    accuracy                           0.62     20000\n",
            "   macro avg       0.26      0.18      0.16     20000\n",
            "weighted avg       0.54      0.62      0.50     20000\n",
            "\n"
          ],
          "name": "stdout"
        },
        {
          "output_type": "stream",
          "text": [
            "/usr/local/lib/python3.6/dist-packages/sklearn/metrics/_classification.py:1272: UndefinedMetricWarning: Precision and F-score are ill-defined and being set to 0.0 in labels with no predicted samples. Use `zero_division` parameter to control this behavior.\n",
            "  _warn_prf(average, modifier, msg_start, len(result))\n"
          ],
          "name": "stderr"
        }
      ]
    },
    {
      "cell_type": "code",
      "metadata": {
        "id": "0p3B2mYO79hj",
        "colab_type": "code",
        "colab": {
          "base_uri": "https://localhost:8080/",
          "height": 492
        },
        "outputId": "9f706307-cb99-4776-db10-90de8996780c"
      },
      "source": [
        "print(\"Results Using Entropy:\") \n",
        "    # Prediction using entropy \n",
        "y_pred_entropy = prediction(xtest, clf_entropy) \n",
        "cal_accuracy(ytest, y_pred_entropy)"
      ],
      "execution_count": null,
      "outputs": [
        {
          "output_type": "stream",
          "text": [
            "Results Using Entropy:\n",
            "Predicted values:\n",
            "[2 2 4 ... 2 2 2]\n",
            "Confusion Matrix:  [[    0     0    53     0     3     0]\n",
            " [    0     0   474     1     8     0]\n",
            " [    0     0 12127    30    93     0]\n",
            " [    0     0  3420    61   126     0]\n",
            " [    0     0  3063    60   272     0]\n",
            " [    0     0   185     1    23     0]]\n",
            "Accuracy :  62.3\n",
            "Report :                precision    recall  f1-score   support\n",
            "\n",
            "           0       0.00      0.00      0.00        56\n",
            "           1       0.00      0.00      0.00       483\n",
            "           2       0.63      0.99      0.77     12250\n",
            "           3       0.40      0.02      0.03      3607\n",
            "           4       0.52      0.08      0.14      3395\n",
            "           5       0.00      0.00      0.00       209\n",
            "\n",
            "    accuracy                           0.62     20000\n",
            "   macro avg       0.26      0.18      0.16     20000\n",
            "weighted avg       0.54      0.62      0.50     20000\n",
            "\n"
          ],
          "name": "stdout"
        },
        {
          "output_type": "stream",
          "text": [
            "/usr/local/lib/python3.6/dist-packages/sklearn/metrics/_classification.py:1272: UndefinedMetricWarning: Precision and F-score are ill-defined and being set to 0.0 in labels with no predicted samples. Use `zero_division` parameter to control this behavior.\n",
            "  _warn_prf(average, modifier, msg_start, len(result))\n"
          ],
          "name": "stderr"
        }
      ]
    },
    {
      "cell_type": "markdown",
      "metadata": {
        "id": "Vqwo5tEihwiC",
        "colab_type": "text"
      },
      "source": [
        "#naive bayes"
      ]
    },
    {
      "cell_type": "code",
      "metadata": {
        "id": "TRoTqgN1uzPT",
        "colab_type": "code",
        "colab": {
          "base_uri": "https://localhost:8080/",
          "height": 895
        },
        "outputId": "66f82c4a-7679-45e5-d319-5be9029b2297"
      },
      "source": [
        "nb = MultinomialNB()\n",
        "nb.fit(xtrain, ytrain)\n",
        "print(\"Normal implementation\")\n",
        "print(nb.score(xtest, ytest))\t\t# to calculate the score for the classification\n",
        "joblib.dump(nb, 'nb.pkl') \n",
        "\n",
        "\n",
        "ypred = nb.predict(xtest)\n",
        "cnf_matrix = confusion_matrix(ytest, ypred)\n",
        "np.set_printoptions(precision=2)\n",
        "\n",
        "# Plot non-normalized confusion matrix\n",
        "plt.figure()\n",
        "plot_confusion_matrix(cnf_matrix, classes=class_names,title='Confusion matrix, without normalization')\n",
        "\n",
        "# Plot normalized confusion matrix\n",
        "plt.figure()\n",
        "plot_confusion_matrix(cnf_matrix, classes=class_names, normalize=True,title='Normalized confusion matrix')\n",
        "\n",
        "plt.show()\n"
      ],
      "execution_count": null,
      "outputs": [
        {
          "output_type": "stream",
          "text": [
            "Normal implementation\n",
            "0.6916\n",
            "Confusion matrix, without normalization\n",
            "[[    0     0    20    11    25     0]\n",
            " [    0   152   213   102    16     0]\n",
            " [    0   110 10750   700   679    11]\n",
            " [    0    56  2013  1135   395     8]\n",
            " [    0     5  1392   227  1771     0]\n",
            " [    0     0    66   109    10    24]]\n",
            "Normalized confusion matrix\n",
            "[[0.   0.   0.36 0.2  0.45 0.  ]\n",
            " [0.   0.31 0.44 0.21 0.03 0.  ]\n",
            " [0.   0.01 0.88 0.06 0.06 0.  ]\n",
            " [0.   0.02 0.56 0.31 0.11 0.  ]\n",
            " [0.   0.   0.41 0.07 0.52 0.  ]\n",
            " [0.   0.   0.32 0.52 0.05 0.11]]\n"
          ],
          "name": "stdout"
        },
        {
          "output_type": "display_data",
          "data": {
            "image/png": "[encoded data removed]",
            "text/plain": [
              "<Figure size 432x288 with 2 Axes>"
            ]
          },
          "metadata": {
            "tags": [],
            "needs_background": "light"
          }
        },
        {
          "output_type": "display_data",
          "data": {
            "image/png": "[encoded data removed]",
            "text/plain": [
              "<Figure size 432x288 with 2 Axes>"
            ]
          },
          "metadata": {
            "tags": [],
            "needs_background": "light"
          }
        }
      ]
    },
    {
      "cell_type": "markdown",
      "metadata": {
        "id": "m5KY3ryph1W6",
        "colab_type": "text"
      },
      "source": [
        "#neural network"
      ]
    },
    {
      "cell_type": "markdown",
      "metadata": {
        "id": "YO8YsMl0Vvpl",
        "colab_type": "text"
      },
      "source": [
        ""
      ]
    },
    {
      "cell_type": "code",
      "metadata": {
        "id": "OMBiI5xEw5Vz",
        "colab_type": "code",
        "colab": {
          "base_uri": "https://localhost:8080/",
          "height": 54
        },
        "outputId": "4eac66a4-0903-48ef-bd55-1cc8fa993a6b"
      },
      "source": [
        "\n",
        "NN = MLPClassifier(solver='lbfgs', alpha=1e-5, hidden_layer_sizes=(50, 2), random_state=1).fit(xtrain,ytrain)\n",
        "print(\"NN without MI\")\n",
        "print(accuracy_score(ytest, NN.predict(xtest)))"
      ],
      "execution_count": null,
      "outputs": [
        {
          "output_type": "stream",
          "text": [
            "NN without MI\n",
            "0.6125\n"
          ],
          "name": "stdout"
        }
      ]
    },
    {
      "cell_type": "markdown",
      "metadata": {
        "id": "LCqW0s2qnApk",
        "colab_type": "text"
      },
      "source": [
        ""
      ]
    },
    {
      "cell_type": "markdown",
      "metadata": {
        "id": "fiRq9cRZUcu0",
        "colab_type": "text"
      },
      "source": [
        "#SENTIMENT ANALYSIS\n"
      ]
    },
    {
      "cell_type": "code",
      "metadata": {
        "id": "wziIMDFXUgYk",
        "colab_type": "code",
        "colab": {}
      },
      "source": [
        "def analyze_polarity(headline):\n",
        " \n",
        "    result = TextBlob(headline)\n",
        "    if result.sentiment.polarity > 0:\n",
        "        return 1\n",
        "    elif result.sentiment.polarity == 0:\n",
        "        return 0\n",
        "    else:\n",
        "        return -1"
      ],
      "execution_count": null,
      "outputs": []
    },
    {
      "cell_type": "code",
      "metadata": {
        "id": "1eQJ3NC-XnGg",
        "colab_type": "code",
        "colab": {
          "base_uri": "https://localhost:8080/",
          "height": 146
        },
        "outputId": "a776c80e-63e9-49ae-d47e-ec123833d67c"
      },
      "source": [
        "news['Result'] = np.array([analyze_polarity(headline) for headline in news['headline_text']])"
      ],
      "execution_count": null,
      "outputs": [
        {
          "output_type": "stream",
          "text": [
            "/usr/local/lib/python3.6/dist-packages/ipykernel_launcher.py:1: SettingWithCopyWarning: \n",
            "A value is trying to be set on a copy of a slice from a DataFrame.\n",
            "Try using .loc[row_indexer,col_indexer] = value instead\n",
            "\n",
            "See the caveats in the documentation: https://pandas.pydata.org/pandas-docs/stable/user_guide/indexing.html#returning-a-view-versus-a-copy\n",
            "  \"\"\"Entry point for launching an IPython kernel.\n"
          ],
          "name": "stderr"
        }
      ]
    },
    {
      "cell_type": "code",
      "metadata": {
        "id": "vFH7ZZ5bYIxu",
        "colab_type": "code",
        "colab": {}
      },
      "source": [
        "positive_headlines = [ head for index, head in enumerate(news['headline_text']) if news['Result'][index] > 0]\n",
        "\n",
        "unbiased_headlines = [ head for index, head in enumerate(news['headline_text']) if news['Result'][index] == 0]\n",
        "\n",
        "negative_headlines = [ head for index, head in enumerate(news['headline_text']) if news['Result'][index] < 0]"
      ],
      "execution_count": null,
      "outputs": []
    },
    {
      "cell_type": "code",
      "metadata": {
        "id": "HUu5JwpBYwat",
        "colab_type": "code",
        "colab": {}
      },
      "source": [
        "o_pos = len(positive_headlines)*100/len(news['headline_text'])\n",
        "\n",
        "o_neg = len(negative_headlines)*100/len(news['headline_text'])\n",
        "\n",
        "o_un = len(unbiased_headlines)*100/len(news['headline_text'])"
      ],
      "execution_count": null,
      "outputs": []
    },
    {
      "cell_type": "code",
      "metadata": {
        "id": "Lx8moHUOY7a0",
        "colab_type": "code",
        "colab": {
          "base_uri": "https://localhost:8080/",
          "height": 72
        },
        "outputId": "b0fe2418-ff0b-4920-97c7-2729ef9ee3a5"
      },
      "source": [
        "print('Positive Headlines: ' + str(o_pos) + '\\nNegative Headlines: ' + str(o_neg) + '\\nUnbiased Headlines: ' + str(o_un))\n"
      ],
      "execution_count": null,
      "outputs": [
        {
          "output_type": "stream",
          "text": [
            "Positive Headlines: 14.686\n",
            "Negative Headlines: 10.336\n",
            "Unbiased Headlines: 74.978\n"
          ],
          "name": "stdout"
        }
      ]
    },
    {
      "cell_type": "code",
      "metadata": {
        "id": "DbbLVKEAc_WU",
        "colab_type": "code",
        "colab": {}
      },
      "source": [
        "def sentiment_category_wise(headline_name):\n",
        "    #Returns a dataset that contains data relevant to the given party name\n",
        "    return news[news['headline_text'].str.contains(headline_name)]"
      ],
      "execution_count": null,
      "outputs": []
    },
    {
      "cell_type": "code",
      "metadata": {
        "id": "zjg6OrHgdkbh",
        "colab_type": "code",
        "colab": {}
      },
      "source": [
        "frames_sports = [sentiment_category_wise('sports'), sentiment_category_wise('cricket')]\n",
        "data_sports = pd.concat(frames_sports)\n",
        "\n",
        "frames_india = [sentiment_category_wise('india')]\n",
        "data_india = pd.concat(frames_india)\n",
        "\n",
        "frames_business = [sentiment_category_wise('business')]\n",
        "data_business = pd.concat(frames_business)\n",
        "\n",
        "frames_city = [sentiment_category_wise('city')]\n",
        "data_city = pd.concat(frames_city)\n",
        "\n",
        "frames_entertainment = [sentiment_category_wise('entertainment')]\n",
        "data_entertainment = pd.concat(frames_entertainment)\n",
        "\n",
        "\n",
        "frames_miscellaneous = [sentiment_category_wise('miscellaneous')]\n",
        "data_miscellaneous = pd.concat(frames_miscellaneous)"
      ],
      "execution_count": null,
      "outputs": []
    },
    {
      "cell_type": "code",
      "metadata": {
        "id": "OCGTwbAbfy84",
        "colab_type": "code",
        "colab": {}
      },
      "source": [
        "def result_ratio(dataset):\n",
        "    \"\"\"\n",
        "    Returns the ratio of positive sentiment with negative sentiment of all the relevant reported headlines\n",
        "    \n",
        "    The given dataset is run through and 3 groups are created: \n",
        "    (1) - Positive Sentiment\n",
        "    (0) - Unbiased Sentiment\n",
        "    (-1) - Negative Sentiment\n",
        "    The ratio of the number of the reports with a positive sentiment with number of reports with a negative\n",
        "    sentiment is then returned.\n",
        "    \n",
        "    Parameter dataset: The dataset to segregate on the basis of sentiments\n",
        "    Precondition: Dataset with column 'Result' that may only contain '1', '0' or '-1' values based on the\n",
        "    aforementioned criteria\n",
        "    \"\"\"\n",
        "    grouped_data = dataset.groupby(['Result'])['headline_text'].count()\n",
        "    return grouped_data[1]/grouped_data[-1]"
      ],
      "execution_count": null,
      "outputs": []
    },
    {
      "cell_type": "code",
      "metadata": {
        "id": "msmvaZc7f7CR",
        "colab_type": "code",
        "colab": {
          "base_uri": "https://localhost:8080/",
          "height": 108
        },
        "outputId": "b6467fa0-77fb-44c3-c36f-cd0102f390cc"
      },
      "source": [
        "print('n1. ' + str(result_ratio(data_sports)) + '\\n2. ' + str(result_ratio(data_india)) + '\\n3. ' + str(result_ratio(data_business))  + '\\n4. ' + str(result_ratio(data_city)) + '\\n5. ' + str(result_ratio(data_entertainment)))\n",
        "#print( str(result_ratio(data_miscellaneous))) "
      ],
      "execution_count": null,
      "outputs": [
        {
          "output_type": "stream",
          "text": [
            "n1. 0.9487179487179487\n",
            "2. 1.0\n",
            "3. 0.8\n",
            "4. 2.0952380952380953\n",
            "5. 5.0\n"
          ],
          "name": "stdout"
        }
      ]
    },
    {
      "cell_type": "code",
      "metadata": {
        "id": "pLOXYy8ihYqp",
        "colab_type": "code",
        "colab": {
          "base_uri": "https://localhost:8080/",
          "height": 108
        },
        "outputId": "3c503949-1df4-426c-fdd5-1a94fb236924"
      },
      "source": [
        "print('1. ' + str(len(data_sports)) + '\\n2. ' + str(len(data_india)) + '\\n3. ' + str(len(data_business)) + '\\n4. ' + str(len(data_city)) + '\\n5. ' + str(len(data_entertainment)))"
      ],
      "execution_count": null,
      "outputs": [
        {
          "output_type": "stream",
          "text": [
            "1. 293\n",
            "2. 63\n",
            "3. 255\n",
            "4. 1048\n",
            "5. 32\n"
          ],
          "name": "stdout"
        }
      ]
    },
    {
      "cell_type": "markdown",
      "metadata": {
        "id": "wvT9uxcioQrV",
        "colab_type": "text"
      },
      "source": [
        "# Political Parties"
      ]
    },
    {
      "cell_type": "code",
      "metadata": {
        "id": "AoWLeELaoVEE",
        "colab_type": "code",
        "colab": {}
      },
      "source": [
        "data = news\n",
        "def party_data(party_name):\n",
        "    return data[data['headline_text'].str.contains(party_name)]\n",
        "\n",
        "frames_bjp = [party_data('bjp'), party_data('BJP')]\n",
        "data_bjp = pd.concat(frames_bjp)\n",
        "\n",
        "frames_congress = [party_data('congress'), party_data('Congress')]\n",
        "data_congress = pd.concat(frames_congress)\n",
        "\n",
        "frames_bsp = [party_data('bsp'), party_data('BSP')]\n",
        "data_bsp = pd.concat(frames_bsp)\n",
        "\n",
        "frames_aap = [party_data('aap'), party_data('AAP')]\n",
        "data_aap = pd.concat(frames_aap)\n",
        "\n"
      ],
      "execution_count": null,
      "outputs": []
    },
    {
      "cell_type": "code",
      "metadata": {
        "id": "Tqtzz8ZjohBu",
        "colab_type": "code",
        "colab": {}
      },
      "source": [
        "def result_ratio(dataset):\n",
        "    \n",
        "    grouped_data = dataset.groupby(['Result'])['headline_text'].count()\n",
        "    return grouped_data[1]/grouped_data[-1]"
      ],
      "execution_count": null,
      "outputs": []
    },
    {
      "cell_type": "code",
      "metadata": {
        "id": "F177-fEzpFxa",
        "colab_type": "code",
        "colab": {
          "base_uri": "https://localhost:8080/",
          "height": 72
        },
        "outputId": "9ce79d4c-54f6-4b42-f3f4-30485437ecc6"
      },
      "source": [
        "print('1. ' + str(result_ratio(data_bjp)) + '\\n2. ' + str(result_ratio(data_congress)) + '\\n3. ' + str(result_ratio(data_bsp)))"
      ],
      "execution_count": null,
      "outputs": [
        {
          "output_type": "stream",
          "text": [
            "1. 0.9741935483870968\n",
            "2. 1.2592592592592593\n",
            "3. 1.3846153846153846\n"
          ],
          "name": "stdout"
        }
      ]
    },
    {
      "cell_type": "code",
      "metadata": {
        "id": "BEehTV5y3L8g",
        "colab_type": "code",
        "colab": {
          "base_uri": "https://localhost:8080/",
          "height": 35
        },
        "outputId": "ac468aa7-ad9a-4299-e0d4-db75cd1687ad"
      },
      "source": [
        "print('1. ' + str(result_ratio(data_aap)))"
      ],
      "execution_count": null,
      "outputs": [
        {
          "output_type": "stream",
          "text": [
            "1. 4.0\n"
          ],
          "name": "stdout"
        }
      ]
    },
    {
      "cell_type": "code",
      "metadata": {
        "id": "nevMGNfIpJT6",
        "colab_type": "code",
        "colab": {
          "base_uri": "https://localhost:8080/",
          "height": 72
        },
        "outputId": "488e594f-4e2b-4e10-d0a1-d49946b87809"
      },
      "source": [
        "print('1. ' + str(len(data_bjp)) + '\\n2. ' + str(len(data_congress)) + '\\n3. ' + str(len(data_bsp)))"
      ],
      "execution_count": null,
      "outputs": [
        {
          "output_type": "stream",
          "text": [
            "1. 1761\n",
            "2. 598\n",
            "3. 139\n"
          ],
          "name": "stdout"
        }
      ]
    },
    {
      "cell_type": "code",
      "metadata": {
        "id": "UuR_bdi53AS7",
        "colab_type": "code",
        "colab": {
          "base_uri": "https://localhost:8080/",
          "height": 35
        },
        "outputId": "5acc7a3f-4dc4-4253-e3fd-6eeb176d34a8"
      },
      "source": [
        "print('1. ' + str(len(data_aap)))"
      ],
      "execution_count": null,
      "outputs": [
        {
          "output_type": "stream",
          "text": [
            "1. 14\n"
          ],
          "name": "stdout"
        }
      ]
    },
    {
      "cell_type": "code",
      "metadata": {
        "id": "58_ZQn2CpNow",
        "colab_type": "code",
        "colab": {}
      },
      "source": [
        ""
      ],
      "execution_count": null,
      "outputs": []
    }
  ]
}